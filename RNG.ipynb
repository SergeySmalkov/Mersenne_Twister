{
 "cells": [
  {
   "cell_type": "markdown",
   "metadata": {},
   "source": [
    "Linear congruential generator"
   ]
  },
  {
   "cell_type": "code",
   "execution_count": 91,
   "metadata": {},
   "outputs": [],
   "source": [
    "def lcg(modulus: int, a: int, c: int, seed: int) -> float:\n",
    "    while True:\n",
    "        seed = (a * seed + c) % modulus\n",
    "        yield seed"
   ]
  },
  {
   "cell_type": "code",
   "execution_count": 92,
   "metadata": {},
   "outputs": [
    {
     "data": {
      "text/plain": [
       "7"
      ]
     },
     "execution_count": 92,
     "metadata": {},
     "output_type": "execute_result"
    }
   ],
   "source": [
    "next(lcg(199999999999999999,2,1, 3))"
   ]
  },
  {
   "cell_type": "markdown",
   "metadata": {},
   "source": [
    "Mersenne \n",
    "Twister"
   ]
  },
  {
   "cell_type": "code",
   "execution_count": 110,
   "metadata": {},
   "outputs": [],
   "source": [
    "# MT19937\n",
    "def Mersenne_Twister(c_seed = 0):\n",
    "    class Random():\n",
    "        def __init__(self, c_seed = 0):\n",
    "            (self.w, self.n, self.m, self.r) = (32, 624, 397, 31)\n",
    "            self.a = 0x9908B0DF\n",
    "            (self.u, self.d) = (11, 0xFFFFFFFF)\n",
    "            (self.s, self.b) = (7, 0x9D2C5680)\n",
    "            (self.t, self.c) = (15, 0xEFC60000)\n",
    "            self.l = 18\n",
    "            self.f = 1812433253\n",
    "            self.MT = [0 for i in range(self.n)]\n",
    "            self.index = self.n + 1\n",
    "            self.lower_mask = 0x7FFFFFFF\n",
    "            self.upper_mask = 0x80000000\n",
    "            self.c_seed = c_seed\n",
    "            self.MT[0] = c_seed\n",
    "            for i in range(1, self.n):\n",
    "                temp = self.f * (self.MT[i-1] ^ (self.MT[i-1] >> (self.w - 2))) + i\n",
    "                self.MT[i] = temp & 0xffffffff\n",
    "            self.index = 0\n",
    "            \n",
    "        def random(self):\n",
    "\n",
    "            if self.index >= self.n:\n",
    "\n",
    "                for i in range(0, self.n):\n",
    "                    x = (self.MT[i] & self.upper_mask) + \\\n",
    "                        (self.MT[(i+1) % self.n] & self.lower_mask)\n",
    "                    xA = x >> 1\n",
    "                    if (x % 2) != 0:\n",
    "                        xA = xA ^ self.a\n",
    "                    self.MT[i] = self.MT[(i + self.m) % self.n] ^ xA\n",
    "\n",
    "            \n",
    "            y = self.MT[self.index]\n",
    "            y = y ^ ((y >> self.u) & self.d)\n",
    "            y = y ^ ((y << self.s) & self.b)\n",
    "            y = y ^ ((y << self.t) & self.c)\n",
    "            y = y ^ (y >> self.l)\n",
    "            self.index += 1\n",
    "            return (y & 0xffffffff) / 4294967296  \n",
    "        \n",
    "    r = Random(c_seed)\n",
    "    while True:\n",
    "        number = r.random()\n",
    "        yield number"
   ]
  },
  {
   "cell_type": "code",
   "execution_count": 111,
   "metadata": {},
   "outputs": [
    {
     "data": {
      "text/plain": [
       "0.040101433638483286"
      ]
     },
     "execution_count": 111,
     "metadata": {},
     "output_type": "execute_result"
    }
   ],
   "source": [
    "mt = Mersenne_Twister(123)\n",
    "next(mt)"
   ]
  },
  {
   "cell_type": "code",
   "execution_count": 112,
   "metadata": {},
   "outputs": [
    {
     "data": {
      "text/plain": [
       "0.5183070458006114"
      ]
     },
     "execution_count": 112,
     "metadata": {},
     "output_type": "execute_result"
    }
   ],
   "source": [
    "next(mt)"
   ]
  },
  {
   "cell_type": "code",
   "execution_count": 113,
   "metadata": {},
   "outputs": [
    {
     "data": {
      "text/plain": [
       "0.6324470923282206"
      ]
     },
     "execution_count": 113,
     "metadata": {},
     "output_type": "execute_result"
    }
   ],
   "source": [
    "next(mt)"
   ]
  },
  {
   "cell_type": "code",
   "execution_count": null,
   "metadata": {},
   "outputs": [],
   "source": []
  },
  {
   "cell_type": "code",
   "execution_count": null,
   "metadata": {},
   "outputs": [],
   "source": []
  }
 ],
 "metadata": {
  "kernelspec": {
   "display_name": "Python 3",
   "language": "python",
   "name": "python3"
  },
  "language_info": {
   "codemirror_mode": {
    "name": "ipython",
    "version": 3
   },
   "file_extension": ".py",
   "mimetype": "text/x-python",
   "name": "python",
   "nbconvert_exporter": "python",
   "pygments_lexer": "ipython3",
   "version": "3.7.5"
  }
 },
 "nbformat": 4,
 "nbformat_minor": 2
}
